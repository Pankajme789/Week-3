{
 "cells": [
  {
   "cell_type": "markdown",
   "id": "1c731143-fcbf-4eb3-a7b5-ef34d02c68ce",
   "metadata": {},
   "source": [
    "1. Which keyword is used to create a function? Create a function to return a list of odd numbers in the range of 1 to 25."
   ]
  },
  {
   "cell_type": "code",
   "execution_count": 28,
   "id": "41ea4ffe-29a4-4edd-9a39-6f1f1e51176a",
   "metadata": {},
   "outputs": [],
   "source": [
    "''''In most programming languages, including Python, the keyword used to create a function is \"def.\"'''\n",
    "\n",
    "def odd_num():\n",
    "    odd_num = []\n",
    "    for a in range(1,26):\n",
    "        if a%2!=0:\n",
    "            odd_num.append(a)\n",
    "    return odd_num\n",
    "    \n",
    "    "
   ]
  },
  {
   "cell_type": "code",
   "execution_count": 29,
   "id": "13bdcbef-6ca3-432a-a8ea-e611a3d897f6",
   "metadata": {},
   "outputs": [
    {
     "data": {
      "text/plain": [
       "[1, 3, 5, 7, 9, 11, 13, 15, 17, 19, 21, 23, 25]"
      ]
     },
     "execution_count": 29,
     "metadata": {},
     "output_type": "execute_result"
    }
   ],
   "source": [
    "odd_num()"
   ]
  },
  {
   "cell_type": "markdown",
   "id": "3559f86c-96c7-4e99-ada3-d8ffa8a728aa",
   "metadata": {},
   "source": [
    "Q2. Why *args and **kwargs is used in some functions? Create a function each for *args and **kwargs to demonstrate their use."
   ]
  },
  {
   "cell_type": "code",
   "execution_count": 42,
   "id": "6a828871-49f7-4888-8ee0-a6c3db602f97",
   "metadata": {},
   "outputs": [],
   "source": [
    "''' *args used in n number of input from user a side and the **kwargs used in dictionary funtion only i.e. Keywords arguments functions '''\n",
    "\n",
    "def first_argument_function(*args_only):\n",
    "    return args_only"
   ]
  },
  {
   "cell_type": "code",
   "execution_count": 49,
   "id": "26c9b36c-898f-442c-a5d0-0e4d94a2b9e4",
   "metadata": {},
   "outputs": [
    {
     "data": {
      "text/plain": [
       "('This is our first argument function', 'ramsetu')"
      ]
     },
     "execution_count": 49,
     "metadata": {},
     "output_type": "execute_result"
    }
   ],
   "source": [
    "first_argument_function(\"This is our first argument function\",\"ramsetu\")"
   ]
  },
  {
   "cell_type": "code",
   "execution_count": 51,
   "id": "78880031-03fa-4577-808d-a55bcb78c0fd",
   "metadata": {},
   "outputs": [],
   "source": [
    "def Keyword_argument_function(**kwargs_only):\n",
    "    return kwargs_only"
   ]
  },
  {
   "cell_type": "code",
   "execution_count": 54,
   "id": "7b5e0159-ef02-4b26-8326-659364699bb1",
   "metadata": {},
   "outputs": [
    {
     "data": {
      "text/plain": [
       "{'a': 59, 'n': 95, 'keyword_argument': 'Kwargs'}"
      ]
     },
     "execution_count": 54,
     "metadata": {},
     "output_type": "execute_result"
    }
   ],
   "source": [
    "Keyword_argument_function(a=59, n=95, keyword_argument=\"Kwargs\")"
   ]
  },
  {
   "cell_type": "markdown",
   "id": "4574edf5-3738-4063-bd1a-fc4b080284ed",
   "metadata": {},
   "source": [
    "Q3. What is an iterator in python? Name the method used to initialise the iterator object and the method used for iteration. Use these methods to print the first five elements of the given list [2, 4, 6, 8, 10, 12, 14,16, 18, 20]."
   ]
  },
  {
   "cell_type": "code",
   "execution_count": 1,
   "id": "783e0419-bfc1-4b67-9e36-156302f05fc1",
   "metadata": {},
   "outputs": [],
   "source": [
    "\"\"\"ITERATOR is the object that can keep each word open, and shift from next to next word, such kind or words which is converted in to iterators are known as iterable words\"\"\"\n",
    "\n",
    "l = [2,4,6,8,10,12,14,16,18,20]"
   ]
  },
  {
   "cell_type": "code",
   "execution_count": 9,
   "id": "ce49b9f5-efec-4f26-b327-2929b6ca71ad",
   "metadata": {},
   "outputs": [],
   "source": [
    "l1 = iter(l)"
   ]
  },
  {
   "cell_type": "code",
   "execution_count": 10,
   "id": "02a8cb40-80d3-4261-be94-cbb2bc815fc3",
   "metadata": {},
   "outputs": [
    {
     "data": {
      "text/plain": [
       "2"
      ]
     },
     "execution_count": 10,
     "metadata": {},
     "output_type": "execute_result"
    }
   ],
   "source": [
    "next(l1)"
   ]
  },
  {
   "cell_type": "code",
   "execution_count": 11,
   "id": "f2607205-e7b3-484a-a36a-df365104e227",
   "metadata": {},
   "outputs": [
    {
     "data": {
      "text/plain": [
       "4"
      ]
     },
     "execution_count": 11,
     "metadata": {},
     "output_type": "execute_result"
    }
   ],
   "source": [
    "next(l1)"
   ]
  },
  {
   "cell_type": "code",
   "execution_count": 12,
   "id": "922f6e4c-f02a-46ec-b72c-8d5ad3801847",
   "metadata": {},
   "outputs": [
    {
     "data": {
      "text/plain": [
       "6"
      ]
     },
     "execution_count": 12,
     "metadata": {},
     "output_type": "execute_result"
    }
   ],
   "source": [
    "next(l1)"
   ]
  },
  {
   "cell_type": "code",
   "execution_count": 13,
   "id": "f3e2f41b-7912-436b-8543-6002526c0920",
   "metadata": {},
   "outputs": [
    {
     "data": {
      "text/plain": [
       "8"
      ]
     },
     "execution_count": 13,
     "metadata": {},
     "output_type": "execute_result"
    }
   ],
   "source": [
    "next(l1)"
   ]
  },
  {
   "cell_type": "code",
   "execution_count": 14,
   "id": "dc4a1d85-88f0-453d-85c9-045c427d4a25",
   "metadata": {},
   "outputs": [
    {
     "data": {
      "text/plain": [
       "10"
      ]
     },
     "execution_count": 14,
     "metadata": {},
     "output_type": "execute_result"
    }
   ],
   "source": [
    "next(l1)"
   ]
  },
  {
   "cell_type": "markdown",
   "id": "b9749533-912f-4cfe-aaf2-a9a76af3aa17",
   "metadata": {},
   "source": [
    "Q7. Write a list comprehension to iterate through the given string: \"PWSKILLS\". Expected output ['p','w','s','k','i','l','l','s']"
   ]
  },
  {
   "cell_type": "code",
   "execution_count": 21,
   "id": "cfb433ca-490f-4c7a-b168-5894463eda58",
   "metadata": {},
   "outputs": [
    {
     "data": {
      "text/plain": [
       "['p', 'w', 's', 'k', 'i', 'l', 'l', 's']"
      ]
     },
     "execution_count": 21,
     "metadata": {},
     "output_type": "execute_result"
    }
   ],
   "source": [
    "comp = \"PWSKILLS\"\n",
    "list ( map ( lambda comp : comp.lower() , comp))"
   ]
  },
  {
   "cell_type": "markdown",
   "id": "e7a8d864-a3b8-46b2-8486-0a89d4676046",
   "metadata": {},
   "source": [
    "Q6: Write a program to print the first 10 fabonacci numbers using while loop."
   ]
  },
  {
   "cell_type": "code",
   "execution_count": 43,
   "id": "bf18fcd7-dd63-4edd-a6ad-5824bc8135cf",
   "metadata": {},
   "outputs": [
    {
     "name": "stdout",
     "output_type": "stream",
     "text": [
      "0\n",
      "1\n",
      "1\n",
      "2\n",
      "3\n",
      "5\n",
      "8\n",
      "13\n",
      "21\n",
      "34\n"
     ]
    }
   ],
   "source": [
    "a,b = 0,1\n",
    "count=0\n",
    "while count < 10:\n",
    "    print (a)\n",
    "    a,b=b,a+b\n",
    "    count = count+1\n"
   ]
  },
  {
   "cell_type": "markdown",
   "id": "5789c7be-c614-46b2-b2a4-0379707e1e80",
   "metadata": {},
   "source": [
    "Q4. What is a generator function in python? Why yield keyword is used? Give an example of a generator function."
   ]
  },
  {
   "cell_type": "markdown",
   "id": "eb89b1de-9fd0-4307-bb5a-71feb8308f64",
   "metadata": {},
   "source": [
    "Answer: A generator function in Python is a special type of function that generates a sequence of values using the yield keyword. \n",
    "Instead of returning a single value, a generator function can yield multiple values one at a time, and it maintains its internal state between each yield statement. This allows for the generation of large or even infinite sequences without storing them all in memory at once.\n",
    "\n",
    "The yield keyword is used in a generator function to define points at which the function should \"yield\" a value. When a yield statement is encountered, the function temporarily suspends its execution, returns the yielded value, and saves its state. The next time the generator is called, it resumes execution from where it left off and continues generating the next value.\n",
    "\n",
    "Here's an example of a generator function that generates a sequence of even numbers up to a specified limit:"
   ]
  },
  {
   "cell_type": "code",
   "execution_count": 2,
   "id": "4ba4ae4f-b7b4-4463-a891-ca58830667ad",
   "metadata": {},
   "outputs": [
    {
     "name": "stdout",
     "output_type": "stream",
     "text": [
      "0\n",
      "2\n",
      "4\n",
      "6\n",
      "8\n",
      "10\n"
     ]
    }
   ],
   "source": [
    "def even_numbers(limit):\n",
    "    num = 0\n",
    "    while num <= limit:\n",
    "        yield num\n",
    "        num += 2\n",
    "\n",
    "# Create a generator object\n",
    "generator = even_numbers(10)\n",
    "\n",
    "# Print the generated values\n",
    "for number in generator:\n",
    "    print(number)\n"
   ]
  },
  {
   "cell_type": "markdown",
   "id": "5a7d3933-be1d-45cc-ac67-4a386aecfd71",
   "metadata": {},
   "source": [
    "Q5. Create a generator function for prime numbers less than 1000. Use the next() method to print the first 20 prime numbers."
   ]
  },
  {
   "cell_type": "code",
   "execution_count": 5,
   "id": "829efb07-a7d8-43e7-a2c9-79fc749abf22",
   "metadata": {},
   "outputs": [],
   "source": [
    "def prime_generator():\n",
    "    \n",
    "    for num in range(2, 1000):\n",
    "        is_prime = True\n",
    "        for i in range(2, int(num**0.5) + 1):\n",
    "            if num % i == 0:\n",
    "                is_prime = False\n",
    "                break\n",
    "        if is_prime:\n",
    "            yield num\n",
    "\n",
    "generator = prime_generator()"
   ]
  },
  {
   "cell_type": "code",
   "execution_count": 6,
   "id": "d6513a34-ac31-4f0a-a794-d5cfecee817e",
   "metadata": {},
   "outputs": [
    {
     "name": "stdout",
     "output_type": "stream",
     "text": [
      "2\n",
      "3\n",
      "5\n",
      "7\n",
      "11\n",
      "13\n",
      "17\n",
      "19\n",
      "23\n",
      "29\n",
      "31\n",
      "37\n",
      "41\n",
      "43\n",
      "47\n",
      "53\n",
      "59\n",
      "61\n",
      "67\n",
      "71\n"
     ]
    }
   ],
   "source": [
    "\n",
    "for _ in range(20):\n",
    "    prime = next(generator)\n",
    "    print(prime)"
   ]
  },
  {
   "cell_type": "markdown",
   "id": "2560ddeb-177b-4995-8696-a342a5f849a3",
   "metadata": {},
   "source": [
    "Q8. Write a python program to check whether a given number is Palindrome or not using a while loop"
   ]
  },
  {
   "cell_type": "code",
   "execution_count": 14,
   "id": "d15687c4-4a72-4c90-9290-4e3f5f20aa17",
   "metadata": {},
   "outputs": [
    {
     "name": "stdin",
     "output_type": "stream",
     "text": [
      "Enter a number:  78987\n"
     ]
    },
    {
     "name": "stdout",
     "output_type": "stream",
     "text": [
      "78987 is a palindrome.\n"
     ]
    }
   ],
   "source": [
    "def is_palindrome(number):\n",
    "   \n",
    "    number_str = str(number)\n",
    "    left = 0\n",
    "    right = len(number_str) - 1\n",
    "\n",
    "    \n",
    "    while left < right:\n",
    "        if number_str[left] != number_str[right]:\n",
    "            return False\n",
    "        left += 1\n",
    "        right -= 1\n",
    "\n",
    "    return True\n",
    "\n",
    "number = int(input(\"Enter a number: \"))\n",
    "if is_palindrome(number):\n",
    "    print(f\"{number} is a palindrome.\")\n",
    "else:\n",
    "    print(f\"{number} is not a palindrome.\")\n",
    "    "
   ]
  },
  {
   "cell_type": "markdown",
   "id": "cc5c2ffe-7b3f-451c-ae8e-4e63acc98d8e",
   "metadata": {},
   "source": [
    "Q9. Write a code to print odd numbers from 1 to 100 using list comprehension."
   ]
  },
  {
   "cell_type": "code",
   "execution_count": 20,
   "id": "e1cfd0c6-e273-407c-91d5-a4e920802bb3",
   "metadata": {},
   "outputs": [
    {
     "name": "stdout",
     "output_type": "stream",
     "text": [
      "[1, 3, 5, 7, 9, 11, 13, 15, 17, 19, 21, 23, 25, 27, 29, 31, 33, 35, 37, 39, 41, 43, 45, 47, 49, 51, 53, 55, 57, 59, 61, 63, 65, 67, 69, 71, 73, 75, 77, 79, 81, 83, 85, 87, 89, 91, 93, 95, 97, 99]\n"
     ]
    }
   ],
   "source": [
    "numbers = [num for num in range(1, 101)]\n",
    "\n",
    "odd_numbers = [num for num in numbers if num % 2 != 0]\n",
    "\n",
    "print(odd_numbers)"
   ]
  },
  {
   "cell_type": "code",
   "execution_count": null,
   "id": "9f4ad688-e1e6-4e31-af03-940bfe87471f",
   "metadata": {},
   "outputs": [],
   "source": []
  }
 ],
 "metadata": {
  "kernelspec": {
   "display_name": "Python 3 (ipykernel)",
   "language": "python",
   "name": "python3"
  },
  "language_info": {
   "codemirror_mode": {
    "name": "ipython",
    "version": 3
   },
   "file_extension": ".py",
   "mimetype": "text/x-python",
   "name": "python",
   "nbconvert_exporter": "python",
   "pygments_lexer": "ipython3",
   "version": "3.10.8"
  }
 },
 "nbformat": 4,
 "nbformat_minor": 5
}
